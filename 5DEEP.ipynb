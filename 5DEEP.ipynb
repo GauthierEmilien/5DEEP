{
 "cells": [
  {
   "cell_type": "code",
   "execution_count": 90,
   "metadata": {},
   "outputs": [],
   "source": [
    "import pathlib\n",
    "\n",
    "data_dir = pathlib.Path('./seg_train')\n",
    "image_count = len(list(data_dir.glob('*/*.jpg')))\n",
    "image_count\n",
    "\n",
    "test_dir = pathlib.Path('./seg_test')\n",
    "test_count = len(list(test_dir.glob('*/*.jpg')))"
   ]
  },
  {
   "cell_type": "code",
   "execution_count": 91,
   "metadata": {},
   "outputs": [
    {
     "data": {
      "text/plain": [
       "array(['buildings', 'forest', 'glacier', 'mountain', 'sea', 'street'],\n",
       "      dtype='<U9')"
      ]
     },
     "execution_count": 91,
     "metadata": {},
     "output_type": "execute_result"
    }
   ],
   "source": [
    "import numpy as np\n",
    "\n",
    "CLASS_NAMES = np.array([item.name for item in data_dir.glob('*')])\n",
    "CLASS_NAMES"
   ]
  },
  {
   "cell_type": "code",
   "execution_count": 129,
   "metadata": {},
   "outputs": [],
   "source": [
    "import tensorflow as tf\n",
    "from tensorflow.keras.preprocessing.image import ImageDataGenerator\n",
    "\n",
    "img_generator = ImageDataGenerator(rescale=1./255)\n",
    "BATCH_SIZE = 32\n",
    "IMG_HEIGHT = 150\n",
    "IMG_WIDTH = 150\n",
    "STEPS_PER_EPOCH = np.ceil(image_count/BATCH_SIZE)\n",
    "VALIDATION_STEPS = np.ceil(test_count/BATCH_SIZE)"
   ]
  },
  {
   "cell_type": "code",
   "execution_count": 130,
   "metadata": {},
   "outputs": [
    {
     "name": "stdout",
     "output_type": "stream",
     "text": [
      "Found 14034 images belonging to 6 classes.\n",
      "Found 3000 images belonging to 6 classes.\n"
     ]
    }
   ],
   "source": [
    "train_data_gen = img_generator.flow_from_directory(\n",
    "    directory=str(data_dir),\n",
    "    batch_size=BATCH_SIZE,\n",
    "    shuffle=True,\n",
    "    target_size=(IMG_HEIGHT, IMG_WIDTH),\n",
    "    class_mode='binary'\n",
    ")\n",
    "\n",
    "test_data_gen = img_generator.flow_from_directory(\n",
    "    directory=str(test_dir),\n",
    "    batch_size=BATCH_SIZE,\n",
    "    target_size=(IMG_HEIGHT, IMG_WIDTH),\n",
    "    class_mode='binary'\n",
    ")"
   ]
  },
  {
   "cell_type": "code",
   "execution_count": 103,
   "metadata": {},
   "outputs": [],
   "source": [
    "from tensorflow import keras\n",
    "\n",
    "model = keras.Sequential([\n",
    "    keras.layers.Conv2D(32, (5, 5), input_shape=(IMG_HEIGHT, IMG_WIDTH, 3), activation='relu'),\n",
    "    keras.layers.MaxPooling2D(pool_size=(2, 2)),\n",
    "    keras.layers.Flatten(),\n",
    "    keras.layers.Dropout(0.2),\n",
    "    keras.layers.Dense(128, activation='relu'),\n",
    "    keras.layers.Dense(len(CLASS_NAMES), activation='softmax')\n",
    "])\n",
    "\n",
    "model.compile(\n",
    "    optimizer='adam',\n",
    "    loss=keras.losses.SparseCategoricalCrossentropy(from_logits=True),\n",
    "    metrics=['accuracy']\n",
    ")\n"
   ]
  },
  {
   "cell_type": "code",
   "execution_count": 112,
   "metadata": {},
   "outputs": [
    {
     "name": "stdout",
     "output_type": "stream",
     "text": [
      "WARNING:tensorflow:sample_weight modes were coerced from\n",
      "  ...\n",
      "    to  \n",
      "  ['...']\n",
      "WARNING:tensorflow:sample_weight modes were coerced from\n",
      "  ...\n",
      "    to  \n",
      "  ['...']\n",
      "Train for 439.0 steps, validate for 94.0 steps\n",
      "Epoch 1/5\n",
      "439/439 [==============================] - 164s 374ms/step - loss: 1.8740 - accuracy: 0.1697 - val_loss: 1.8767 - val_accuracy: 0.1670\n",
      "Epoch 2/5\n",
      "439/439 [==============================] - 150s 343ms/step - loss: 1.8740 - accuracy: 0.1697 - val_loss: 1.8767 - val_accuracy: 0.1670\n",
      "Epoch 3/5\n",
      "439/439 [==============================] - 151s 344ms/step - loss: 1.8740 - accuracy: 0.1697 - val_loss: 1.8767 - val_accuracy: 0.1670\n",
      "Epoch 4/5\n",
      "439/439 [==============================] - 151s 343ms/step - loss: 1.8740 - accuracy: 0.1697 - val_loss: 1.8767 - val_accuracy: 0.1670\n",
      "Epoch 5/5\n",
      "439/439 [==============================] - 151s 343ms/step - loss: 1.8740 - accuracy: 0.1697 - val_loss: 1.8767 - val_accuracy: 0.1670\n"
     ]
    },
    {
     "data": {
      "text/plain": [
       "<tensorflow.python.keras.callbacks.History at 0x29bfaec8b48>"
      ]
     },
     "execution_count": 112,
     "metadata": {},
     "output_type": "execute_result"
    }
   ],
   "source": [
    "model.fit(\n",
    "    train_data_gen,\n",
    "    steps_per_epoch=STEPS_PER_EPOCH,\n",
    "    epochs=5,\n",
    "    validation_data=test_data_gen,\n",
    "    validation_steps=VALIDATION_STEPS\n",
    ")"
   ]
  },
  {
   "cell_type": "code",
   "execution_count": 132,
   "metadata": {},
   "outputs": [],
   "source": [
    "model_2 = model = keras.Sequential([\n",
    "    keras.layers.Conv2D(32, (3, 3), input_shape=(IMG_HEIGHT, IMG_WIDTH, 3), activation='relu'),\n",
    "    keras.layers.MaxPooling2D(pool_size=(2, 2)),\n",
    "    keras.layers.Conv2D(32, (3, 3), activation='relu'),\n",
    "    keras.layers.MaxPooling2D(pool_size=(2, 2)),\n",
    "    keras.layers.Conv2D(64, (3, 3), activation='relu'),\n",
    "    keras.layers.MaxPooling2D(pool_size=(2, 2)),\n",
    "    keras.layers.Conv2D(128, (3, 3), activation='relu'),\n",
    "    keras.layers.MaxPooling2D(pool_size=(2, 2)),\n",
    "    keras.layers.Flatten(),\n",
    "    keras.layers.Dropout(0.2),\n",
    "    keras.layers.Dense(128, activation='relu'),\n",
    "    keras.layers.Dense(len(CLASS_NAMES), activation='softmax')\n",
    "])\n",
    "\n",
    "model_2.compile(\n",
    "    optimizer='adam',\n",
    "    loss=keras.losses.SparseCategoricalCrossentropy(from_logits=True),\n",
    "    metrics=['accuracy']\n",
    ")"
   ]
  },
  {
   "cell_type": "code",
   "execution_count": 134,
   "metadata": {},
   "outputs": [
    {
     "name": "stdout",
     "output_type": "stream",
     "text": [
      "WARNING:tensorflow:sample_weight modes were coerced from\n",
      "  ...\n",
      "    to  \n",
      "  ['...']\n",
      "WARNING:tensorflow:sample_weight modes were coerced from\n",
      "  ...\n",
      "    to  \n",
      "  ['...']\n",
      "Train for 439.0 steps, validate for 94.0 steps\n",
      "Epoch 1/10\n",
      "439/439 [==============================] - 144s 328ms/step - loss: 1.2314 - accuracy: 0.8115 - val_loss: 1.2454 - val_accuracy: 0.7967\n",
      "Epoch 2/10\n",
      "439/439 [==============================] - 145s 330ms/step - loss: 1.2205 - accuracy: 0.8224 - val_loss: 1.2761 - val_accuracy: 0.7663\n",
      "Epoch 3/10\n",
      "439/439 [==============================] - 145s 330ms/step - loss: 1.2315 - accuracy: 0.8109 - val_loss: 1.2415 - val_accuracy: 0.8007\n",
      "Epoch 4/10\n",
      "439/439 [==============================] - 145s 331ms/step - loss: 1.2185 - accuracy: 0.8234 - val_loss: 1.2411 - val_accuracy: 0.7990\n",
      "Epoch 5/10\n",
      "439/439 [==============================] - 145s 331ms/step - loss: 1.2057 - accuracy: 0.8360 - val_loss: 1.2698 - val_accuracy: 0.7727\n",
      "Epoch 6/10\n",
      "439/439 [==============================] - 145s 330ms/step - loss: 1.2056 - accuracy: 0.8368 - val_loss: 1.2285 - val_accuracy: 0.8153\n",
      "Epoch 7/10\n",
      "439/439 [==============================] - 146s 332ms/step - loss: 1.1949 - accuracy: 0.8484 - val_loss: 1.2451 - val_accuracy: 0.7973\n",
      "Epoch 8/10\n",
      "439/439 [==============================] - 146s 332ms/step - loss: 1.2028 - accuracy: 0.8397 - val_loss: 1.2322 - val_accuracy: 0.8080\n",
      "Epoch 9/10\n",
      "439/439 [==============================] - 145s 330ms/step - loss: 1.1994 - accuracy: 0.8421 - val_loss: 1.2287 - val_accuracy: 0.8137\n",
      "Epoch 10/10\n",
      "439/439 [==============================] - 145s 330ms/step - loss: 1.1889 - accuracy: 0.8534 - val_loss: 1.2160 - val_accuracy: 0.8277\n"
     ]
    },
    {
     "data": {
      "text/plain": [
       "<tensorflow.python.keras.callbacks.History at 0x29be3872988>"
      ]
     },
     "execution_count": 134,
     "metadata": {},
     "output_type": "execute_result"
    }
   ],
   "source": [
    "model_2.fit(\n",
    "    train_data_gen,\n",
    "    steps_per_epoch=STEPS_PER_EPOCH,\n",
    "    epochs=10,\n",
    "    validation_data=test_data_gen,\n",
    "    validation_steps=VALIDATION_STEPS\n",
    ")"
   ]
  }
 ],
 "metadata": {
  "kernelspec": {
   "display_name": "Python 3",
   "language": "python",
   "name": "python3"
  },
  "language_info": {
   "codemirror_mode": {
    "name": "ipython",
    "version": 3
   },
   "file_extension": ".py",
   "mimetype": "text/x-python",
   "name": "python",
   "nbconvert_exporter": "python",
   "pygments_lexer": "ipython3",
   "version": "3.7.4"
  }
 },
 "nbformat": 4,
 "nbformat_minor": 2
}
